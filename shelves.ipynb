{
  "cells": [
    {
      "cell_type": "code",
      "execution_count": null,
      "id": "765a2353-e612-4bd3-962c-c956ed60d001",
      "metadata": {
        "colab": {
          "base_uri": "https://localhost:8080/"
        },
        "id": "765a2353-e612-4bd3-962c-c956ed60d001",
        "outputId": "8bb8c99c-e9ad-4317-b7b0-6206cf316eb0"
      },
      "outputs": [],
      "source": [
        "!nvidia-smi"
      ]
    },
    {
      "cell_type": "code",
      "execution_count": null,
      "id": "M_oe0JqQe85d",
      "metadata": {
        "colab": {
          "base_uri": "https://localhost:8080/"
        },
        "id": "M_oe0JqQe85d",
        "outputId": "f581b31e-2bfa-43c5-dc8d-d38af7ce15bc"
      },
      "outputs": [],
      "source": [
        "!pip install ultralytics"
      ]
    },
    {
      "cell_type": "code",
      "execution_count": 35,
      "id": "09b9662b-c370-4b38-b697-868fa48e6a4f",
      "metadata": {
        "colab": {
          "base_uri": "https://localhost:8080/"
        },
        "id": "09b9662b-c370-4b38-b697-868fa48e6a4f",
        "outputId": "6da41029-c6b1-47ce-ed33-79a3604a26ab"
      },
      "outputs": [],
      "source": [
        "import cv2, os, random, shutil\n",
        "import numpy as np\n",
        "from ultralytics import YOLO\n",
        "from matplotlib import pyplot as plt"
      ]
    },
    {
      "cell_type": "code",
      "execution_count": null,
      "id": "3cfb21cf-8565-488a-a200-8bc115a22082",
      "metadata": {
        "colab": {
          "base_uri": "https://localhost:8080/"
        },
        "id": "3cfb21cf-8565-488a-a200-8bc115a22082",
        "outputId": "50d8ca2d-fd88-458f-9d66-9caae7decfa1"
      },
      "outputs": [],
      "source": [
        "import kagglehub\n",
        "\n",
        "# Download latest version\n",
        "path = kagglehub.dataset_download(\"thedatasith/sku110k-annotations\")\n",
        "\n",
        "print(\"Path to dataset files:\", path)"
      ]
    },
    {
      "cell_type": "code",
      "execution_count": null,
      "id": "580ab9e3-3b1d-4803-853c-cc8854446ad3",
      "metadata": {
        "colab": {
          "base_uri": "https://localhost:8080/"
        },
        "id": "580ab9e3-3b1d-4803-853c-cc8854446ad3",
        "outputId": "f635b8ab-cde9-4c79-a0f8-e92b8382f2df"
      },
      "outputs": [],
      "source": [
        "def subsample_data(source_path, target_path, num_samples):\n",
        "    # Specify directory paths\n",
        "    image_path_suffix = [\"images/train/\", \"images/val/\", \"images/test/\"]\n",
        "    label_path_suffix = [\"labels/train/\", \"labels/val/\", \"labels/test/\"]\n",
        "\n",
        "    chosen_image_paths, chosen_label_paths = [], []\n",
        "\n",
        "    for i in range(3):\n",
        "        source_image_dir = source_path+image_path_suffix[i]\n",
        "        source_label_dir = source_path+label_path_suffix[i]\n",
        "        target_image_dir = target_path+image_path_suffix[i]\n",
        "        target_label_dir = target_path+label_path_suffix[i]\n",
        "\n",
        "        # Create directories for the subset\n",
        "        os.makedirs(target_image_dir, exist_ok=True)\n",
        "        os.makedirs(target_label_dir, exist_ok=True)\n",
        "\n",
        "        # Get a list of all file names in the specified directory\n",
        "        file_names = os.listdir(source_image_dir)\n",
        "\n",
        "        # Randomlly choose some image examples\n",
        "        random.seed(88)\n",
        "        chosen_file_names = random.choices(file_names, k=num_samples[i])\n",
        "\n",
        "        for file_path in chosen_file_names:\n",
        "            shutil.copy(source_image_dir+file_path, target_image_dir+file_path)\n",
        "            shutil.copy(source_label_dir+file_path[:-3]+\"txt\", target_label_dir+file_path[:-3]+\"txt\")\n",
        "            chosen_image_paths.append(target_image_dir+file_path)\n",
        "            chosen_label_paths.append(target_label_dir+file_path[:-3]+\"txt\")\n",
        "\n",
        "    print(chosen_image_paths)\n",
        "    print(chosen_label_paths)\n",
        "\n",
        "    return chosen_image_paths, chosen_label_paths\n",
        "\n",
        "image_paths, label_paths = subsample_data(path+\"/SKU110K_fixed/\", \"./01_datasets/\", [40, 10, 10])"
      ]
    },
    {
      "cell_type": "code",
      "execution_count": null,
      "id": "4fe53e23-34f6-48b2-965a-ca7058c6723e",
      "metadata": {
        "colab": {
          "base_uri": "https://localhost:8080/",
          "height": 1000
        },
        "id": "4fe53e23-34f6-48b2-965a-ca7058c6723e",
        "outputId": "1aedcafd-9574-4bd1-df33-744be20661d9"
      },
      "outputs": [],
      "source": [
        "def image_preprocess(image_paths, target_size=(640, 640), pad_color=(0, 0, 0)):\n",
        "    image_objects, scaling_parameters = [], []\n",
        "    for image_path in image_paths:\n",
        "        \n",
        "        image = cv2.imread(image_path)\n",
        "\n",
        "        # Compute the scaling factor to resize the image\n",
        "        original_h, original_w = image.shape[:2]\n",
        "        target_w, target_h = target_size\n",
        "        scale = min(target_w/original_w, target_h/original_h)\n",
        "        scale_w, scale_h = int(original_w*scale), int(original_h*scale)\n",
        "\n",
        "        # Resize to target size\n",
        "        image_resized = cv2.resize(image, (scale_w, scale_h), interpolation=cv2.INTER_AREA)\n",
        "\n",
        "        # Create a new image with the target size and pad color\n",
        "        padded_image = np.full((target_h, target_w, 3), pad_color, dtype=np.uint8)\n",
        "\n",
        "        # Compute padding offsets\n",
        "        pad_top = (target_h - scale_h) // 2\n",
        "        pad_left = (target_w - scale_w) // 2\n",
        "\n",
        "        # Place the resized image onto the padded image\n",
        "        padded_image[pad_top:pad_top+scale_h, pad_left:pad_left+scale_w] = image_resized\n",
        "\n",
        "        image_objects.append(padded_image)\n",
        "        scaling_parameters.append((\n",
        "            pad_left/target_w,\n",
        "            pad_top/target_h,\n",
        "            scale_w/target_w,\n",
        "            scale_h/target_h\n",
        "        ))\n",
        "\n",
        "        # Make sure to create the directory if it doesn't exist\n",
        "        processed_path = image_path.replace(\"01_datasets\", \"02_preprocess\")\n",
        "        print(processed_path)\n",
        "        os.makedirs(os.path.dirname(processed_path), exist_ok=True)\n",
        "        \n",
        "        # Write the image to the file\n",
        "        cv2.imwrite(processed_path, padded_image)\n",
        "\n",
        "    return image_objects, scaling_parameters\n",
        "\n",
        "def show_images(input_image):\n",
        "    # Display the image using matplotlib\n",
        "    image_rgb = cv2.cvtColor(input_image, cv2.COLOR_BGR2RGB)\n",
        "    plt.imshow(image_rgb)\n",
        "    plt.axis('off')\n",
        "    plt.show()\n",
        "\n",
        "image_objects, scaling_parameters = image_preprocess(image_paths)\n",
        "\n",
        "for i in range(3):\n",
        "    show_images(image_objects[i])\n",
        "    print(scaling_parameters[i])\n"
      ]
    },
    {
      "cell_type": "code",
      "execution_count": null,
      "id": "0c9773a0-4542-4e0f-b965-faff63b98367",
      "metadata": {
        "colab": {
          "base_uri": "https://localhost:8080/"
        },
        "id": "0c9773a0-4542-4e0f-b965-faff63b98367",
        "outputId": "6bd76ef3-e67d-41cc-f176-22af81c881b1"
      },
      "outputs": [],
      "source": [
        "def prepare_labels(label_paths, scaling_parameters):\n",
        "    bbox_objects = []\n",
        "    for label_path, scale in zip(label_paths, scaling_parameters):\n",
        "        lines = []\n",
        "        w_pad, h_pad, w_ratio, h_ratio = scale\n",
        "        with open(label_path, 'r') as fp:\n",
        "            for line in fp:\n",
        "                # Split each line and skip the first element, which is class\n",
        "                bbox = line.split()\n",
        "                # Convert each value in bbox to float\n",
        "                bbox = [\n",
        "                    int(bbox[0]),\n",
        "                    float(bbox[1])*w_ratio+w_pad,\n",
        "                    float(bbox[2])*h_ratio+h_pad,\n",
        "                    float(bbox[3])*w_ratio,\n",
        "                    float(bbox[4])*h_ratio\n",
        "                ]\n",
        "                lines.append(bbox)\n",
        "        # Make sure to create the directory if it doesn't exist\n",
        "        processed_path = label_path.replace(\"01_datasets\", \"02_preprocess\")\n",
        "        print(processed_path)\n",
        "        os.makedirs(os.path.dirname(processed_path), exist_ok=True)\n",
        "        with open(processed_path, 'w') as fp:\n",
        "            for line in lines:\n",
        "                fp.write(\" \".join(map(str, line))+\"\\n\")\n",
        "        \n",
        "        bbox_objects.append(lines)\n",
        "        print(len(bbox_objects[-1]))\n",
        "        \n",
        "    return bbox_objects\n",
        "\n",
        "bbox_objects = prepare_labels(label_paths, scaling_parameters)"
      ]
    },
    {
      "cell_type": "code",
      "execution_count": null,
      "id": "44a1a1cd-95cd-4ecf-955c-922328c323b7",
      "metadata": {
        "id": "44a1a1cd-95cd-4ecf-955c-922328c323b7"
      },
      "outputs": [],
      "source": [
        "def draw_one_image_with_bboxes (image, bounding_boxes):\n",
        "    print(f\"Number of labels = {len(bounding_boxes)}\")\n",
        "    # Draw each bounding box on the image\n",
        "    for bbox in bounding_boxes:\n",
        "        _, x_center, y_center, width, height = bbox\n",
        "        scale_y, scale_x = image.shape[:2]\n",
        "\n",
        "        x_min = int((x_center - width / 2) * scale_x)\n",
        "        y_min = int((y_center - height / 2) * scale_y)\n",
        "        x_max = int((x_center + width / 2) * scale_x)\n",
        "        y_max = int((y_center + height / 2) * scale_y)\n",
        "\n",
        "        # Draw the rectangle (Bounding Box)\n",
        "        start_point = (x_min, y_min)\n",
        "        end_point = (x_max, y_max)\n",
        "        # print(start_point, end_point)\n",
        "        color = (0, 255, 0)  # Green color for the bounding box\n",
        "        thickness = 2\n",
        "        image = cv2.rectangle(image, start_point, end_point, color, thickness)\n",
        "\n",
        "    # Convert the image from BGR to RGB (OpenCV loads in BGR by default)\n",
        "    image_rgb = cv2.cvtColor(image, cv2.COLOR_BGR2RGB)\n",
        "\n",
        "    # Display the image with bounding boxes using Matplotlib\n",
        "    plt.imshow(image_rgb)\n",
        "    plt.axis('off')  # Hide the axes\n",
        "    plt.show()\n",
        "\n",
        "for i in range(5):\n",
        "    draw_one_image_with_bboxes (image_objects[i], bbox_objects[i])"
      ]
    },
    {
      "cell_type": "code",
      "execution_count": 41,
      "id": "cdd08516",
      "metadata": {},
      "outputs": [],
      "source": [
        "def write_train_yaml(yaml_name, full_dataset=False):\n",
        "    with open(yaml_name, 'w') as fp:\n",
        "        if full_dataset:\n",
        "            fp.write(f\"path: {path}/SKU110K_fixed/\\n\")\n",
        "        else:\n",
        "            fp.write(f\"path: ../02_preprocess/\\n\")\n",
        "        fp.write(f\"train: images/train\\n\")\n",
        "        fp.write(f\"val: images/val\\n\")\n",
        "        fp.write(f\"nc: 1\\n\")\n",
        "        fp.write(f\"names: ['object']\")\n",
        "\n",
        "write_train_yaml(\"train.yaml\", full_dataset=False)"
      ]
    },
    {
      "cell_type": "code",
      "execution_count": null,
      "id": "58337091",
      "metadata": {
        "colab": {
          "base_uri": "https://localhost:8080/",
          "height": 1000
        },
        "id": "58337091",
        "outputId": "95fa864e-3551-4d88-cc70-a5600369778c"
      },
      "outputs": [],
      "source": [
        "model = YOLO('weights/epoch14.pt')\n",
        "\n",
        "train_results = model.train(\n",
        "    data=\"train.yaml\",  # path to dataset YAML\n",
        "    epochs=1,  # number of training epochs\n",
        "    imgsz=640,  # training image size\n",
        "    device=\"cpu\",  # device to run on, i.e. device=0 or device=0,1,2,3 or device=cpu\n",
        "    save_period=1\n",
        ")"
      ]
    },
    {
      "cell_type": "code",
      "execution_count": null,
      "id": "55cad743",
      "metadata": {
        "colab": {
          "base_uri": "https://localhost:8080/",
          "height": 543
        },
        "id": "55cad743",
        "outputId": "d4cc68a6-5cc9-4958-b598-1681b587d581"
      },
      "outputs": [],
      "source": [
        "# Evaluate model performance on the validation set\n",
        "metrics = model.val()"
      ]
    },
    {
      "cell_type": "code",
      "execution_count": 44,
      "id": "e60368fd",
      "metadata": {},
      "outputs": [],
      "source": [
        "# Save the trained model\n",
        "model.save('latest.pt')"
      ]
    },
    {
      "cell_type": "code",
      "execution_count": null,
      "id": "eae4c9be-6626-4361-812a-019b8484796b",
      "metadata": {
        "colab": {
          "base_uri": "https://localhost:8080/"
        },
        "id": "eae4c9be-6626-4361-812a-019b8484796b",
        "outputId": "b824cc95-8c86-4593-92df-3f21478e9d2d"
      },
      "outputs": [],
      "source": [
        "# Load trained model (optional)\n",
        "model = YOLO('latest.pt')\n",
        "\n",
        "# Predict your image and save to ./runs/prdict{n} folder\n",
        "results = model.predict(\n",
        "    source=image_paths[-1],      # Path to your input image\n",
        "    conf=0.4,                    # Confidence threshold for predictions\n",
        "    save=True,                   # Save the output image\n",
        "    line_width=3,                # Line thickness for bounding boxes\n",
        "    show_labels=True,            # Hide the class labels\n",
        "    show_conf=True               # Hide the confidence scores\n",
        ")\n",
        "\n",
        "# Show result on the screen\n",
        "results[0].show()"
      ]
    }
  ],
  "metadata": {
    "accelerator": "GPU",
    "colab": {
      "gpuType": "T4",
      "provenance": []
    },
    "kernelspec": {
      "display_name": ".venv",
      "language": "python",
      "name": "python3"
    },
    "language_info": {
      "codemirror_mode": {
        "name": "ipython",
        "version": 3
      },
      "file_extension": ".py",
      "mimetype": "text/x-python",
      "name": "python",
      "nbconvert_exporter": "python",
      "pygments_lexer": "ipython3",
      "version": "3.11.10"
    }
  },
  "nbformat": 4,
  "nbformat_minor": 5
}
